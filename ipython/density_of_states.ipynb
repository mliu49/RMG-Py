{
 "cells": [
  {
   "cell_type": "code",
   "execution_count": 1,
   "metadata": {
    "scrolled": true
   },
   "outputs": [
    {
     "name": "stderr",
     "output_type": "stream",
     "text": [
      "Using Theano backend.\n",
      "/Users/mjliu/Code/RMG-Py/rmgpy/tools/plot.py:34: UserWarning: \n",
      "This call to matplotlib.use() has no effect because the backend has already\n",
      "been chosen; matplotlib.use() must be called *before* pylab, matplotlib.pyplot,\n",
      "or matplotlib.backends is imported for the first time.\n",
      "\n",
      "The backend was *originally* set to 'module://ipykernel.pylab.backend_inline' by the following code:\n",
      "  File \"/Users/mjliu/anaconda2/envs/rmg_env/lib/python2.7/runpy.py\", line 174, in _run_module_as_main\n",
      "    \"__main__\", fname, loader, pkg_name)\n",
      "  File \"/Users/mjliu/anaconda2/envs/rmg_env/lib/python2.7/runpy.py\", line 72, in _run_code\n",
      "    exec code in run_globals\n",
      "  File \"/Users/mjliu/anaconda2/envs/rmg_env/lib/python2.7/site-packages/ipykernel_launcher.py\", line 16, in <module>\n",
      "    app.launch_new_instance()\n",
      "  File \"/Users/mjliu/anaconda2/envs/rmg_env/lib/python2.7/site-packages/traitlets/config/application.py\", line 658, in launch_instance\n",
      "    app.start()\n",
      "  File \"/Users/mjliu/anaconda2/envs/rmg_env/lib/python2.7/site-packages/ipykernel/kernelapp.py\", line 499, in start\n",
      "    self.io_loop.start()\n",
      "  File \"/Users/mjliu/anaconda2/envs/rmg_env/lib/python2.7/site-packages/tornado/ioloop.py\", line 1073, in start\n",
      "    handler_func(fd_obj, events)\n",
      "  File \"/Users/mjliu/anaconda2/envs/rmg_env/lib/python2.7/site-packages/tornado/stack_context.py\", line 300, in null_wrapper\n",
      "    return fn(*args, **kwargs)\n",
      "  File \"/Users/mjliu/anaconda2/envs/rmg_env/lib/python2.7/site-packages/zmq/eventloop/zmqstream.py\", line 450, in _handle_events\n",
      "    self._handle_recv()\n",
      "  File \"/Users/mjliu/anaconda2/envs/rmg_env/lib/python2.7/site-packages/zmq/eventloop/zmqstream.py\", line 480, in _handle_recv\n",
      "    self._run_callback(callback, msg)\n",
      "  File \"/Users/mjliu/anaconda2/envs/rmg_env/lib/python2.7/site-packages/zmq/eventloop/zmqstream.py\", line 432, in _run_callback\n",
      "    callback(*args, **kwargs)\n",
      "  File \"/Users/mjliu/anaconda2/envs/rmg_env/lib/python2.7/site-packages/tornado/stack_context.py\", line 300, in null_wrapper\n",
      "    return fn(*args, **kwargs)\n",
      "  File \"/Users/mjliu/anaconda2/envs/rmg_env/lib/python2.7/site-packages/ipykernel/kernelbase.py\", line 283, in dispatcher\n",
      "    return self.dispatch_shell(stream, msg)\n",
      "  File \"/Users/mjliu/anaconda2/envs/rmg_env/lib/python2.7/site-packages/ipykernel/kernelbase.py\", line 233, in dispatch_shell\n",
      "    handler(stream, idents, msg)\n",
      "  File \"/Users/mjliu/anaconda2/envs/rmg_env/lib/python2.7/site-packages/ipykernel/kernelbase.py\", line 399, in execute_request\n",
      "    user_expressions, allow_stdin)\n",
      "  File \"/Users/mjliu/anaconda2/envs/rmg_env/lib/python2.7/site-packages/ipykernel/ipkernel.py\", line 208, in do_execute\n",
      "    res = shell.run_cell(code, store_history=store_history, silent=silent)\n",
      "  File \"/Users/mjliu/anaconda2/envs/rmg_env/lib/python2.7/site-packages/ipykernel/zmqshell.py\", line 537, in run_cell\n",
      "    return super(ZMQInteractiveShell, self).run_cell(*args, **kwargs)\n",
      "  File \"/Users/mjliu/anaconda2/envs/rmg_env/lib/python2.7/site-packages/IPython/core/interactiveshell.py\", line 2714, in run_cell\n",
      "    interactivity=interactivity, compiler=compiler, result=result)\n",
      "  File \"/Users/mjliu/anaconda2/envs/rmg_env/lib/python2.7/site-packages/IPython/core/interactiveshell.py\", line 2818, in run_ast_nodes\n",
      "    if self.run_code(code, result):\n",
      "  File \"/Users/mjliu/anaconda2/envs/rmg_env/lib/python2.7/site-packages/IPython/core/interactiveshell.py\", line 2878, in run_code\n",
      "    exec(code_obj, self.user_global_ns, self.user_ns)\n",
      "  File \"<ipython-input-1-7832d0a17c7b>\", line 5, in <module>\n",
      "    import matplotlib.pyplot as plt\n",
      "  File \"/Users/mjliu/anaconda2/envs/rmg_env/lib/python2.7/site-packages/matplotlib/pyplot.py\", line 71, in <module>\n",
      "    from matplotlib.backends import pylab_setup\n",
      "  File \"/Users/mjliu/anaconda2/envs/rmg_env/lib/python2.7/site-packages/matplotlib/backends/__init__.py\", line 16, in <module>\n",
      "    line for line in traceback.format_stack()\n",
      "\n",
      "\n",
      "  mpl.use('Agg')\n"
     ]
    }
   ],
   "source": [
    "import os\n",
    "os.environ['KERAS_BACKEND'] = 'theano'\n",
    "\n",
    "import numpy as np\n",
    "import matplotlib.pyplot as plt\n",
    "from scipy.optimize import curve_fit, brentq\n",
    "from IPython.display import display\n",
    "\n",
    "import rmgpy.constants as constants\n",
    "import rmgpy.quantity as quantity\n",
    "from rmgpy.cantherm.statmech import StatMechJob\n",
    "from rmgpy.species import Species\n",
    "from rmgpy.pdep.configuration import Configuration\n",
    "from rmgpy.pdep.network import Network"
   ]
  },
  {
   "cell_type": "code",
   "execution_count": 2,
   "metadata": {},
   "outputs": [],
   "source": [
    "path = '/Users/mjliu/Code/RMG-Py/examples/cantherm/species/C2H4/ethene.py'\n",
    "\n",
    "spc = Species(label='ethene')\n",
    "\n",
    "job = StatMechJob(spc, path)\n",
    "job.modelChemistry = 'CBS-QB3'.lower()\n",
    "job.load()"
   ]
  },
  {
   "cell_type": "code",
   "execution_count": 3,
   "metadata": {},
   "outputs": [],
   "source": [
    "network = Network(\n",
    "    label = 'test',\n",
    "    isomers = [Configuration(spc)],\n",
    "    reactants = [], \n",
    "    products = [],\n",
    "    pathReactions = [],\n",
    "    bathGas = [],\n",
    ")"
   ]
  },
  {
   "cell_type": "code",
   "execution_count": null,
   "metadata": {},
   "outputs": [],
   "source": []
  },
  {
   "cell_type": "code",
   "execution_count": 4,
   "metadata": {},
   "outputs": [],
   "source": [
    "network.Tmin = quantity.Temperature((300.0, 'K')).value_si\n",
    "network.Tmax = quantity.Temperature((3000.0, 'K')).value_si\n",
    "network.Pmin = quantity.Pressure((.01, 'bar')).value_si\n",
    "network.Pmax = quantity.Pressure((100.0, 'bar')).value_si\n",
    "network.grainSize = quantity.Energy((1.0, 'kcal/mol'))\n",
    "network.grainCount = 250\n",
    "\n",
    "network.Nisom = len(network.isomers)\n",
    "network.Nreac = len(network.reactants)\n",
    "network.Nprod = len(network.products)\n",
    "network.Ngrains = 0\n",
    "network.NJ = 0\n",
    "\n",
    "# Calculate ground-state energies\n",
    "network.E0 = np.zeros((network.Nisom+network.Nreac+network.Nprod), np.float64)\n",
    "for i in range(network.Nisom):\n",
    "    network.E0[i] = network.isomers[i].E0\n",
    "for n in range(network.Nreac):\n",
    "    network.E0[n+network.Nisom] = network.reactants[n].E0\n",
    "for n in range(network.Nprod):\n",
    "    network.E0[n+network.Nisom+network.Nreac] = network.products[n].E0\n",
    "\n",
    "# Calculate densities of states\n",
    "network.activeJRotor = True\n",
    "network.activeKRotor = False\n",
    "network.rmgmode = False"
   ]
  },
  {
   "cell_type": "code",
   "execution_count": 5,
   "metadata": {},
   "outputs": [
    {
     "name": "stdout",
     "output_type": "stream",
     "text": [
      "0.162487904052 1.18348711207 0.730291992459\n",
      "New factor = 18.1944491914\n"
     ]
    }
   ],
   "source": [
    "Elist = network.selectEmax()"
   ]
  },
  {
   "cell_type": "code",
   "execution_count": 6,
   "metadata": {},
   "outputs": [
    {
     "name": "stdout",
     "output_type": "stream",
     "text": [
      "0.0216108310274\n"
     ]
    },
    {
     "data": {
      "image/png": "[encoded data removed]",
      "text/plain": [
       "<Figure size 432x288 with 1 Axes>"
      ]
     },
     "metadata": {
      "needs_background": "light"
     },
     "output_type": "display_data"
    }
   ],
   "source": [
    "eqDist = network.isomers[0].densStates * np.exp(-Elist/constants.R/network.Tmax)\n",
    "eqDist *= 1e-6\n",
    "plt.plot(Elist, eqDist)\n",
    "\n",
    "frac = eqDist[-1] / eqDist.max()\n",
    "print frac"
   ]
  },
  {
   "cell_type": "code",
   "execution_count": null,
   "metadata": {},
   "outputs": [],
   "source": []
  },
  {
   "cell_type": "code",
   "execution_count": null,
   "metadata": {},
   "outputs": [],
   "source": []
  },
  {
   "cell_type": "code",
   "execution_count": null,
   "metadata": {},
   "outputs": [],
   "source": []
  },
  {
   "cell_type": "code",
   "execution_count": 38,
   "metadata": {},
   "outputs": [],
   "source": [
    "def determineEmax(self, factor=None, tolerance=0.01):\n",
    "    # Guess a factor based on molecule size\n",
    "    if factor is None:\n",
    "        factor = 10.\n",
    "    \n",
    "    # Calculate density of states\n",
    "    Elist = calculateDensitiesOfStates(self, factor=factor)\n",
    "    \n",
    "    # Get the equilibrium distribution for an isomer\n",
    "    eqDist = self.isomers[0].densStates * np.exp(-Elist/constants.R/self.Tmax)\n",
    "    \n",
    "    # Scale Elist for easier fitting\n",
    "    Elist *= 1e-6\n",
    "    \n",
    "    plt.plot(Elist, eqDist)\n",
    "    \n",
    "    # Check if the last point is past the peak of the distribution\n",
    "    maxY = eqDist.max()\n",
    "    maxX = Elist[np.argmax(eqDist)]\n",
    "    print maxX, maxY, eqDist[-1]\n",
    "    \n",
    "    if eqDist[-1] < maxY:\n",
    "        # Check if the last point is within the tolerance relative to the max\n",
    "        if eqDist[-1] / maxY > tolerance:\n",
    "            # Fit a curve to the distribution\n",
    "            popt, pcov = curve_fit(lambda x, a, b: a*x**2*np.exp(b*x**2), Elist, eqDist, p0=[100, -10])\n",
    "            # Find the energy at which we reach the tolerance\n",
    "            target = maxY * tolerance\n",
    "            Emax = brentq(lambda x: target - popt[0]*x**2*np.exp(popt[1]*x**2), maxX, 1)\n",
    "            # Adjust the factor to reach this energy\n",
    "            factor += (Emax - Elist[-1]) / constants.R / self.Tmax\n",
    "            \n",
    "            print 'New factor = {0}'.format(factor)\n",
    "            \n",
    "            Elist2 = np.linspace(0, 0.5, 100)\n",
    "            eqDist2 = popt[0] * Elist2**2 * np.exp(popt[1] * Elist2**2)\n",
    "            plt.plot(Elist2, eqDist2)\n",
    "            \n",
    "    else:\n",
    "        # Manually increment the factor for more accurate fitting\n",
    "        factor += 10\n",
    "        determineEmax(self, factor=factor)\n",
    "    \n",
    "    # Recalculate density of states\n",
    "    calculateDensitiesOfStates(self, factor=factor)\n",
    "    \n",
    "    # Update Emax\n",
    "    self.Emax = Emax"
   ]
  },
  {
   "cell_type": "code",
   "execution_count": 39,
   "metadata": {
    "scrolled": true
   },
   "outputs": [
    {
     "name": "stdout",
     "output_type": "stream",
     "text": [
      "0.162487904052 1.18348711207 0.730291992459\n",
      "New factor = 10.0000081944\n"
     ]
    },
    {
     "data": {
      "image/png": "[encoded data removed]",
      "text/plain": [
       "<Figure size 432x288 with 1 Axes>"
      ]
     },
     "metadata": {
      "needs_background": "light"
     },
     "output_type": "display_data"
    }
   ],
   "source": [
    "determineEmax(network)"
   ]
  },
  {
   "cell_type": "code",
   "execution_count": 27,
   "metadata": {},
   "outputs": [
    {
     "name": "stdout",
     "output_type": "stream",
     "text": [
      "0.617067972274\n"
     ]
    },
    {
     "data": {
      "image/png": "[encoded data removed]",
      "text/plain": [
       "<Figure size 432x288 with 1 Axes>"
      ]
     },
     "metadata": {
      "needs_background": "light"
     },
     "output_type": "display_data"
    }
   ],
   "source": [
    "dens_states, e_list = calculateDensitiesOfStates(network, factor=10.)\n",
    "\n",
    "states = dens_states * np.exp(-e_list/constants.R/network.Tmax)\n",
    "sum_of_states = np.trapz(states, e_list)\n",
    "eq_dist = states / sum_of_states\n",
    "\n",
    "e_list *= 1e-6\n",
    "plt.plot(e_list, states)\n",
    "\n",
    "frac = eq_dist[-1] / eq_dist.max()\n",
    "print frac\n",
    "\n",
    "# popt, pcov = curve_fit(lambda x, a, b: a*x**2*np.exp(b*x**2), e_list, states, p0=[100, -10])\n",
    "# print popt\n",
    "# e_list_2 = np.linspace(0, 0.5, 100)\n",
    "# eq_2 = popt[0] * e_list_2**2 * np.exp(popt[1] * e_list_2**2)\n",
    "# # print eq_2\n",
    "# plt.plot(e_list_2, eq_2)\n",
    "# # e_list_3 = np.linspace(0, 0.4, 100)\n",
    "# # eq_3 = 6e-4 * e_list_3**2 * np.exp(-30 * e_list_3**2)\n",
    "# # plt.plot(e_list_3, eq_3)\n",
    "\n",
    "# dens_states, e_list = calculateDensitiesOfStates(network, multiplier=30.)\n",
    "# states = dens_states * np.exp(-e_list/constants.R/network.Tmax)\n",
    "# sum_of_states = np.trapz(states, e_list)\n",
    "# eq_dist = states / sum_of_states\n",
    "\n",
    "# e_list *= 1e-6\n",
    "# plt.plot(e_list, states/6)\n",
    "\n",
    "# frac = eq_dist[-1] / eq_dist.max()\n",
    "# print frac\n",
    "\n"
   ]
  },
  {
   "cell_type": "code",
   "execution_count": 29,
   "metadata": {},
   "outputs": [],
   "source": [
    "def calculateDensitiesOfStates(self, factor=40.):\n",
    "    \"\"\"\n",
    "    Calculate the densities of states of each configuration that has states\n",
    "    data. The densities of states are computed such that they can be\n",
    "    applied to each temperature in the range of interest by interpolation.\n",
    "    \"\"\"\n",
    "\n",
    "    Tmin = self.Tmin\n",
    "    Tmax = self.Tmax\n",
    "    grainSize = self.grainSize\n",
    "    grainCount = self.grainCount\n",
    "\n",
    "    Nisom = self.Nisom\n",
    "    Nreac = self.Nreac\n",
    "    Nprod = self.Nprod\n",
    "\n",
    "    # Choose the energies used to compute the densities of states\n",
    "    # Use Tmin to select the minimum energy and grain size\n",
    "    Elist0 = self.selectEnergyGrains(Tmin, grainSize, grainCount, factor)\n",
    "    Emin0 = np.min(Elist0)\n",
    "    grainSize0 = Elist0[1] - Elist0[0]\n",
    "    # Use Tmax to select the maximum energy and grain count\n",
    "    Elist0 = self.selectEnergyGrains(Tmax, grainSize, grainCount, factor)\n",
    "    grainCount0 = len(Elist0)\n",
    "    Emax0 = np.max(Elist0)\n",
    "\n",
    "    Elist = self._Network__getEnergyGrains(Emin0, Emax0, grainSize0, grainCount0)\n",
    "    Ngrains = len(Elist)\n",
    "    dE = Elist[1] - Elist[0]\n",
    "\n",
    "    # Shift the energy grains so that the minimum grain is zero\n",
    "    Elist -= Elist[0]\n",
    "\n",
    "    densStates = np.zeros((Nisom+Nreac+Nprod, Ngrains), np.float64)\n",
    "\n",
    "    # Densities of states for isomers\n",
    "    for i in range(Nisom):\n",
    "        self.isomers[i].calculateDensityOfStates(Elist, activeKRotor=self.activeKRotor, activeJRotor=self.activeJRotor, rmgmode=self.rmgmode)\n",
    "\n",
    "    # Densities of states for reactant channels\n",
    "    for n in range(Nreac):\n",
    "        if self.reactants[n].hasStatMech():\n",
    "            self.reactants[n].calculateDensityOfStates(Elist, activeKRotor=self.activeKRotor, activeJRotor=self.activeJRotor, rmgmode=self.rmgmode)\n",
    "    # Densities of states for product channels\n",
    "    if not self.rmgmode:\n",
    "        for n in range(Nprod):\n",
    "            if self.products[n].hasStatMech():\n",
    "                self.products[n].calculateDensityOfStates(Elist, activeKRotor=self.activeKRotor, activeJRotor=self.activeJRotor, rmgmode=self.rmgmode)\n",
    "\n",
    "#     def eq_dist(species):\n",
    "#         densstates = species.densStates / (Elist[1] - Elist[0])\n",
    "#         states = densstates * np.exp(-Elist/constants.R/Tmax)\n",
    "#         sum_of_states = np.trapz(states, Elist)\n",
    "#         return 1e6 * states / sum_of_states\n",
    "\n",
    "#     for i in range(Nisom):\n",
    "#         plt.plot(Elist*0.001, eq_dist(self.isomers[i]))\n",
    "#     for n in range(Nreac):\n",
    "#         if self.reactants[n].densStates is not None:\n",
    "#             plt.plot(Elist*0.001, eq_dist(self.reactants[n]))\n",
    "#     for n in range(Nprod):\n",
    "#         if self.products[n].densStates is not None:\n",
    "#             plt.plot(Elist*0.001, eq_dist(self.products[n]))\n",
    "\n",
    "    #return self.isomers[0].densStates, Elist\n",
    "    return Elist"
   ]
  },
  {
   "cell_type": "code",
   "execution_count": null,
   "metadata": {},
   "outputs": [],
   "source": []
  }
 ],
 "metadata": {
  "kernelspec": {
   "display_name": "Python 2",
   "language": "python",
   "name": "python2"
  },
  "language_info": {
   "codemirror_mode": {
    "name": "ipython",
    "version": 2
   },
   "file_extension": ".py",
   "mimetype": "text/x-python",
   "name": "python",
   "nbconvert_exporter": "python",
   "pygments_lexer": "ipython2",
   "version": "2.7.15"
  }
 },
 "nbformat": 4,
 "nbformat_minor": 2
}
